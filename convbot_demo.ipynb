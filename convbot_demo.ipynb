{
  "nbformat": 4,
  "nbformat_minor": 0,
  "metadata": {
    "colab": {
      "name": "convbot-demo.ipynb",
      "provenance": [],
      "collapsed_sections": []
    },
    "kernelspec": {
      "name": "python3",
      "display_name": "Python 3"
    },
    "language_info": {
      "name": "python"
    }
  },
  "cells": [
    {
      "cell_type": "code",
      "metadata": {
        "id": "_4zYZPqwGu0p",
        "colab": {
          "base_uri": "https://localhost:8080/"
        },
        "outputId": "e34ba0fe-6177-46be-df2f-945fd802c551"
      },
      "source": [
        "!pip install convbot -Uq"
      ],
      "execution_count": 1,
      "outputs": [
        {
          "output_type": "stream",
          "text": [
            "\u001b[K     |████████████████████████████████| 2.6 MB 8.4 MB/s \n",
            "\u001b[K     |████████████████████████████████| 636 kB 42.7 MB/s \n",
            "\u001b[K     |████████████████████████████████| 895 kB 45.3 MB/s \n",
            "\u001b[K     |████████████████████████████████| 3.3 MB 35.4 MB/s \n",
            "\u001b[?25h"
          ],
          "name": "stdout"
        }
      ]
    },
    {
      "cell_type": "code",
      "metadata": {
        "id": "dx4ghM-9IQo7",
        "colab": {
          "base_uri": "https://localhost:8080/"
        },
        "outputId": "c7d19cec-492f-4239-8185-ad6df9fda8ec"
      },
      "source": [
        "!python -m convbot"
      ],
      "execution_count": 2,
      "outputs": [
        {
          "output_type": "stream",
          "text": [
            "2021-07-24 04:23:49.978509: I tensorflow/stream_executor/platform/default/dso_loader.cc:53] Successfully opened dynamic library libcudart.so.11.0\n",
            "Downloading: 100% 26.0/26.0 [00:00<00:00, 14.5kB/s]\n",
            "Downloading: 100% 642/642 [00:00<00:00, 358kB/s]\n",
            "Downloading: 100% 1.04M/1.04M [00:00<00:00, 4.11MB/s]\n",
            "Downloading: 100% 456k/456k [00:00<00:00, 3.53MB/s]\n",
            "Downloading: 100% 863M/863M [00:19<00:00, 44.1MB/s]\n",
            "Bot: Talk to me (type quit to exit)\n",
            "You: How are you today?\n",
            "Bot:  I am good!\n",
            "You: glad to hear that\n",
            "Bot:  You should be too, my friend\n",
            "You: are you interested in olympic games?\n",
            "Bot:  Not really, just wanted to see if you'd do something different.\n",
            "You: where are you from?\n",
            "Bot:  A little south of the border\n",
            "You: ask me a question\n",
            "Bot:  Just be sure you're in good company\n",
            "You: quit\n"
          ],
          "name": "stdout"
        }
      ]
    },
    {
      "cell_type": "code",
      "metadata": {
        "id": "b4tNwoflIcre"
      },
      "source": [
        ""
      ],
      "execution_count": null,
      "outputs": []
    }
  ]
}